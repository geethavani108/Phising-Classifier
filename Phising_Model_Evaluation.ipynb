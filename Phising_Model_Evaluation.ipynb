{
 "cells": [
  {
   "cell_type": "code",
   "execution_count": 8,
   "metadata": {},
   "outputs": [],
   "source": [
    "import pandas as pd\n",
    "import numpy as np\n",
    "import matplotlib.pyplot as plt\n",
    "import seaborn as sns\n",
    "import warnings\n",
    "warnings.filterwarnings(\"ignore\")"
   ]
  },
  {
   "cell_type": "code",
   "execution_count": 2,
   "metadata": {},
   "outputs": [],
   "source": [
    "df=pd.read_csv(r'C:\\\\Users\\kmmoh\\Downloads\\Githubupload\\phising.csv')"
   ]
  },
  {
   "cell_type": "code",
   "execution_count": 3,
   "metadata": {},
   "outputs": [],
   "source": [
    "Selected_features = ['having_IP_Address', 'Shortining_Service', 'having_At_Symbol', 'Prefix_Suffix', 'having_Sub_Domain',\n",
    "                     'SSLfinal_State', 'Favicon', 'port', 'HTTPS_token', 'URL_of_Anchor', 'Links_in_tags', 'SFH', \n",
    "                     'Submitting_to_email', 'Redirect', 'DNSRecord', 'web_traffic', 'Google_Index', 'Links_pointing_to_page',\n",
    "                     'Statistical_report']\n",
    "X = df[Selected_features]"
   ]
  },
  {
   "cell_type": "code",
   "execution_count": 4,
   "metadata": {},
   "outputs": [],
   "source": [
    "X = df[Selected_features]\n",
    "y=df['Result']"
   ]
  },
  {
   "cell_type": "code",
   "execution_count": 5,
   "metadata": {},
   "outputs": [],
   "source": [
    "# Doing the necessary imports\n",
    "from sklearn.model_selection import train_test_split\n",
    "# splitting the data into training and test set for each cluster one by one\n",
    "X_train, X_test, y_train, y_test = train_test_split(X, y, test_size=1 / 3, random_state=36)"
   ]
  },
  {
   "cell_type": "code",
   "execution_count": 6,
   "metadata": {},
   "outputs": [],
   "source": [
    "from sklearn.linear_model  import  LogisticRegression\n",
    "from sklearn.metrics import accuracy_score, confusion_matrix, roc_curve, roc_auc_score,log_loss\n",
    "logreg = LogisticRegression()\n",
    "logreg.fit(X_train, y_train)\n",
    "y_pred = logreg.predict(X_test)\n",
    "y_pred_proba = logreg.predict_proba(X_test)[:, 1]"
   ]
  },
  {
   "cell_type": "markdown",
   "metadata": {},
   "source": [
    "# Log Loss\n",
    "# SKLearn Implemention\n",
    "from sklearn.metrics import log_loss\n",
    "Submissions are scored on log loss:\n",
    "\n",
    "LogLoss=−1n∑i=1n[yi⋅loge(yi^)+(1−yi)⋅loge(1−yi^)]\n",
    " \n",
    "where:\n",
    "\n",
    "n  is the number of sample being predicted\n",
    "yi  is the predicted probability of the video being FAKE\n",
    "yi  is 1 if the sample is phising, 0 if REAL\n",
    "log()  is the natural (base e) logarithm"
   ]
  },
  {
   "cell_type": "code",
   "execution_count": 7,
   "metadata": {},
   "outputs": [
    {
     "name": "stdout",
     "output_type": "stream",
     "text": [
      "Train/Test split results:\n",
      "LogisticRegression accuracy is 0.930\n",
      "LogisticRegression log_loss is 0.178\n"
     ]
    }
   ],
   "source": [
    "print('Train/Test split results:')\n",
    "print(logreg.__class__.__name__+\" accuracy is %2.3f\" % accuracy_score(y_test, y_pred))\n",
    "print(logreg.__class__.__name__+\" log_loss is %2.3f\" % log_loss(y_test, y_pred_proba))\n"
   ]
  },
  {
   "cell_type": "code",
   "execution_count": null,
   "metadata": {},
   "outputs": [],
   "source": []
  }
 ],
 "metadata": {
  "kernelspec": {
   "display_name": "Python 3",
   "language": "python",
   "name": "python3"
  },
  "language_info": {
   "codemirror_mode": {
    "name": "ipython",
    "version": 3
   },
   "file_extension": ".py",
   "mimetype": "text/x-python",
   "name": "python",
   "nbconvert_exporter": "python",
   "pygments_lexer": "ipython3",
   "version": "3.7.1"
  }
 },
 "nbformat": 4,
 "nbformat_minor": 2
}
